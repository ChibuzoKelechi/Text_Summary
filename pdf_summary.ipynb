{
 "cells": [
  {
   "cell_type": "code",
   "execution_count": 2,
   "metadata": {},
   "outputs": [],
   "source": [
    "from PyPDF2 import PdfReader\n",
    "\n",
    "pdf_text = PdfReader('accessory/2023_Kaggle_AI_Report.pdf')"
   ]
  },
  {
   "cell_type": "code",
   "execution_count": 4,
   "metadata": {},
   "outputs": [
    {
     "name": "stdout",
     "output_type": "stream",
     "text": [
      "71\n",
      "AI Report 2023 21“Understand, Generate and Transform the World” \n",
      "By Yuqi Liu  \n",
      "Link to Notebook This essay traces the evolution and growing influence of \n",
      "generative AI across many domains. With an adept blend \n",
      "of historical insight and technological exploration, the \n",
      "essay delves into the societal significance and intricate \n",
      "mechanisms of generative AI. \n",
      "From its historical roots to the accelerated growth fueled \n",
      "by Deep Learning, the essay navigates pivotal models \n",
      "like DALL·E 2 , highlighting the synergy between \n",
      "computational resources, dataset scale, and AI potential. \n",
      "Bridging Computer Vision and Natural Language \n",
      "Processing, the exploration showcases \n",
      "transformative structures such as GANs and Vision \n",
      "Transformers, offering a glimpse into the collaborative \n",
      "future of multimodal learning. \n",
      "The essay candidly confronts challenges and ethical \n",
      "considerations, casting a balanced light on the practical \n",
      "applications and limitations of generative AI. Ultimately, \n",
      "the essay comprehensively celebrates generative AI's \n",
      "present impact while illuminating its promising trajectory \n",
      "into the future. Honorable Mention Generative AI Essay #2 \n",
      "\n"
     ]
    }
   ],
   "source": [
    "print(len(pdf_text.pages))\n",
    "\n",
    "pages = pdf_text.pages\n",
    "# page_text = page.extract_text()\n",
    "\n",
    "# print(page_text)\n",
    "\n",
    "page_text_stack = []\n",
    "\n",
    "for page in pages:\n",
    "    page_text = page.extract_text()\n",
    "    page_text_stack.append(page_text)\n",
    "    \n",
    "print(page_text_stack[20])"
   ]
  },
  {
   "cell_type": "code",
   "execution_count": 5,
   "metadata": {},
   "outputs": [
    {
     "name": "stderr",
     "output_type": "stream",
     "text": [
      "/home/kelechi/.pyenv/versions/3.10.10/lib/python3.10/site-packages/tqdm/auto.py:21: TqdmWarning: IProgress not found. Please update jupyter and ipywidgets. See https://ipywidgets.readthedocs.io/en/stable/user_install.html\n",
      "  from .autonotebook import tqdm as notebook_tqdm\n",
      "2024-02-11 23:57:33.039674: I external/local_tsl/tsl/cuda/cudart_stub.cc:31] Could not find cuda drivers on your machine, GPU will not be used.\n",
      "2024-02-11 23:57:40.327799: E external/local_xla/xla/stream_executor/cuda/cuda_dnn.cc:9261] Unable to register cuDNN factory: Attempting to register factory for plugin cuDNN when one has already been registered\n",
      "2024-02-11 23:57:40.327865: E external/local_xla/xla/stream_executor/cuda/cuda_fft.cc:607] Unable to register cuFFT factory: Attempting to register factory for plugin cuFFT when one has already been registered\n",
      "2024-02-11 23:57:40.669520: E external/local_xla/xla/stream_executor/cuda/cuda_blas.cc:1515] Unable to register cuBLAS factory: Attempting to register factory for plugin cuBLAS when one has already been registered\n",
      "2024-02-11 23:57:41.479046: I external/local_tsl/tsl/cuda/cudart_stub.cc:31] Could not find cuda drivers on your machine, GPU will not be used.\n",
      "2024-02-11 23:57:41.481447: I tensorflow/core/platform/cpu_feature_guard.cc:182] This TensorFlow binary is optimized to use available CPU instructions in performance-critical operations.\n",
      "To enable the following instructions: AVX2 FMA, in other operations, rebuild TensorFlow with the appropriate compiler flags.\n",
      "2024-02-11 23:57:56.346319: W tensorflow/compiler/tf2tensorrt/utils/py_utils.cc:38] TF-TRT Warning: Could not find TensorRT\n",
      "No model was supplied, defaulted to t5-small and revision d769bba (https://huggingface.co/t5-small).\n",
      "Using a pipeline without specifying a model name and revision in production is not recommended.\n",
      "2024-02-11 23:58:22.690206: W external/local_tsl/tsl/framework/cpu_allocator_impl.cc:83] Allocation of 65798144 exceeds 10% of free system memory.\n",
      "2024-02-11 23:58:22.993516: W external/local_tsl/tsl/framework/cpu_allocator_impl.cc:83] Allocation of 65798144 exceeds 10% of free system memory.\n",
      "2024-02-11 23:58:23.456352: W external/local_tsl/tsl/framework/cpu_allocator_impl.cc:83] Allocation of 65798144 exceeds 10% of free system memory.\n",
      "2024-02-11 23:58:29.808636: W external/local_tsl/tsl/framework/cpu_allocator_impl.cc:83] Allocation of 65798144 exceeds 10% of free system memory.\n",
      "2024-02-11 23:58:31.254914: W external/local_tsl/tsl/framework/cpu_allocator_impl.cc:83] Allocation of 65798144 exceeds 10% of free system memory.\n",
      "All PyTorch model weights were used when initializing TFT5ForConditionalGeneration.\n",
      "\n",
      "All the weights of TFT5ForConditionalGeneration were initialized from the PyTorch model.\n",
      "If your task is similar to the task the model of the checkpoint was trained on, you can already use TFT5ForConditionalGeneration for predictions without further training.\n"
     ]
    }
   ],
   "source": [
    "from transformers import pipeline\n",
    "\n",
    "summarizer = pipeline(task=\"summarization\")"
   ]
  },
  {
   "cell_type": "code",
   "execution_count": 6,
   "metadata": {},
   "outputs": [
    {
     "name": "stderr",
     "output_type": "stream",
     "text": [
      "2024-02-12 00:00:09.459937: I external/local_xla/xla/service/service.cc:168] XLA service 0x111ab330 initialized for platform Host (this does not guarantee that XLA will be used). Devices:\n",
      "2024-02-12 00:00:09.460013: I external/local_xla/xla/service/service.cc:176]   StreamExecutor device (0): Host, Default Version\n",
      "2024-02-12 00:00:09.627997: I tensorflow/compiler/mlir/tensorflow/utils/dump_mlir_util.cc:269] disabling MLIR crash reproducer, set env var `MLIR_CRASH_REPRODUCER_DIRECTORY` to enable.\n",
      "WARNING: All log messages before absl::InitializeLog() is called are written to STDERR\n",
      "I0000 00:00:1707692409.799700   44589 device_compiler.h:186] Compiled cluster using XLA!  This line is logged at most once for the lifetime of the process.\n",
      "2024-02-12 00:00:09.803534: E external/local_xla/xla/stream_executor/stream_executor_internal.h:177] SetPriority unimplemented for this stream.\n"
     ]
    },
    {
     "data": {
      "text/plain": [
       "[{'summary_text': 'the essay traces the evolution and growing influence of generative AI across many domains . from its historical roots to the accelerated growth fueled by Deep Learning, the essay navigates pivotal models like DALLE 2 .'}]"
      ]
     },
     "execution_count": 6,
     "metadata": {},
     "output_type": "execute_result"
    }
   ],
   "source": [
    "page_text = page_text_stack[20]\n",
    "summarizer(page_text) "
   ]
  },
  {
   "cell_type": "code",
   "execution_count": null,
   "metadata": {},
   "outputs": [],
   "source": []
  }
 ],
 "metadata": {
  "kernelspec": {
   "display_name": "Python 3",
   "language": "python",
   "name": "python3"
  },
  "language_info": {
   "codemirror_mode": {
    "name": "ipython",
    "version": 3
   },
   "file_extension": ".py",
   "mimetype": "text/x-python",
   "name": "python",
   "nbconvert_exporter": "python",
   "pygments_lexer": "ipython3",
   "version": "3.10.10"
  }
 },
 "nbformat": 4,
 "nbformat_minor": 2
}
